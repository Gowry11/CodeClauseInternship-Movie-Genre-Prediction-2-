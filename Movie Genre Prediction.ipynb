{
 "cells": [
  {
   "cell_type": "markdown",
   "id": "eb0a29a1-eb58-4130-a7d6-6b4ea59c6360",
   "metadata": {},
   "source": [
    "# Movie Genre Prediction\n",
    "**Internship Task - CodeClause**\n",
    "\n",
    "**NAME: GOWRY P P**\n",
    "\n",
    "This project uses Natural Language Processing (NLP) and Machine Learning techniques to predict the primary genre of a movie based on its plot summary. The model is trained on the IMDb Movie Dataset, using techniques like text cleaning, TF-IDF vectorization, and classification algorithms such as Naive Bayes, Logistic Regression, and Random Forest. Evaluation includes accuracy scoring, classification reports, and confusion matrix visualization to understand model performance across genres."
   ]
  },
  {
   "cell_type": "markdown",
   "id": "a146e30a-89c4-4e5b-a72f-dd5177690696",
   "metadata": {},
   "source": [
    "## Dataset Details\n",
    "\n",
    "The dataset used for this project is the IMDb Movie Data, which contains metadata for movies including:\n",
    "\n",
    "- **Title**\n",
    "- **Genre**\n",
    "- **Description (plot summary)**\n",
    "- **Director**\n",
    "- **Actors**\n",
    "- **Year**\n",
    "- **Runtime**\n",
    "- **Rating**\n",
    "- **Votes**\n",
    "- **Revenue**\n",
    "- **Metascore**\n",
    "\n",
    "### Relevant Columns Used:\n",
    "- `Description` → Used as input (X) for predicting the genre.\n",
    "- `Genre` → Used as the target label (y).\n",
    "\n",
    "Since many entries in the `Genre` column contain multiple genres (e.g., `Action,Adventure,Sci-Fi`), we simplified the task to single-label classification by taking the first genre only.\n"
   ]
  },
  {
   "cell_type": "markdown",
   "id": "d889ba70-b9b8-4e85-949f-7bed0ffd1cbc",
   "metadata": {},
   "source": [
    "## Import Libraries and Load Dataset"
   ]
  },
  {
   "cell_type": "code",
   "execution_count": 4,
   "id": "fda83710-1fb4-4eb5-bae7-5206fc50f890",
   "metadata": {},
   "outputs": [
    {
     "data": {
      "text/html": [
       "<div>\n",
       "<style scoped>\n",
       "    .dataframe tbody tr th:only-of-type {\n",
       "        vertical-align: middle;\n",
       "    }\n",
       "\n",
       "    .dataframe tbody tr th {\n",
       "        vertical-align: top;\n",
       "    }\n",
       "\n",
       "    .dataframe thead th {\n",
       "        text-align: right;\n",
       "    }\n",
       "</style>\n",
       "<table border=\"1\" class=\"dataframe\">\n",
       "  <thead>\n",
       "    <tr style=\"text-align: right;\">\n",
       "      <th></th>\n",
       "      <th>Rank</th>\n",
       "      <th>Title</th>\n",
       "      <th>Genre</th>\n",
       "      <th>Description</th>\n",
       "      <th>Director</th>\n",
       "      <th>Actors</th>\n",
       "      <th>Year</th>\n",
       "      <th>Runtime (Minutes)</th>\n",
       "      <th>Rating</th>\n",
       "      <th>Votes</th>\n",
       "      <th>Revenue (Millions)</th>\n",
       "      <th>Metascore</th>\n",
       "    </tr>\n",
       "  </thead>\n",
       "  <tbody>\n",
       "    <tr>\n",
       "      <th>0</th>\n",
       "      <td>1</td>\n",
       "      <td>Guardians of the Galaxy</td>\n",
       "      <td>Action,Adventure,Sci-Fi</td>\n",
       "      <td>A group of intergalactic criminals are forced ...</td>\n",
       "      <td>James Gunn</td>\n",
       "      <td>Chris Pratt, Vin Diesel, Bradley Cooper, Zoe S...</td>\n",
       "      <td>2014</td>\n",
       "      <td>121</td>\n",
       "      <td>8.1</td>\n",
       "      <td>757074</td>\n",
       "      <td>333.13</td>\n",
       "      <td>76.0</td>\n",
       "    </tr>\n",
       "    <tr>\n",
       "      <th>1</th>\n",
       "      <td>2</td>\n",
       "      <td>Prometheus</td>\n",
       "      <td>Adventure,Mystery,Sci-Fi</td>\n",
       "      <td>Following clues to the origin of mankind, a te...</td>\n",
       "      <td>Ridley Scott</td>\n",
       "      <td>Noomi Rapace, Logan Marshall-Green, Michael Fa...</td>\n",
       "      <td>2012</td>\n",
       "      <td>124</td>\n",
       "      <td>7.0</td>\n",
       "      <td>485820</td>\n",
       "      <td>126.46</td>\n",
       "      <td>65.0</td>\n",
       "    </tr>\n",
       "    <tr>\n",
       "      <th>2</th>\n",
       "      <td>3</td>\n",
       "      <td>Split</td>\n",
       "      <td>Horror,Thriller</td>\n",
       "      <td>Three girls are kidnapped by a man with a diag...</td>\n",
       "      <td>M. Night Shyamalan</td>\n",
       "      <td>James McAvoy, Anya Taylor-Joy, Haley Lu Richar...</td>\n",
       "      <td>2016</td>\n",
       "      <td>117</td>\n",
       "      <td>7.3</td>\n",
       "      <td>157606</td>\n",
       "      <td>138.12</td>\n",
       "      <td>62.0</td>\n",
       "    </tr>\n",
       "    <tr>\n",
       "      <th>3</th>\n",
       "      <td>4</td>\n",
       "      <td>Sing</td>\n",
       "      <td>Animation,Comedy,Family</td>\n",
       "      <td>In a city of humanoid animals, a hustling thea...</td>\n",
       "      <td>Christophe Lourdelet</td>\n",
       "      <td>Matthew McConaughey,Reese Witherspoon, Seth Ma...</td>\n",
       "      <td>2016</td>\n",
       "      <td>108</td>\n",
       "      <td>7.2</td>\n",
       "      <td>60545</td>\n",
       "      <td>270.32</td>\n",
       "      <td>59.0</td>\n",
       "    </tr>\n",
       "    <tr>\n",
       "      <th>4</th>\n",
       "      <td>5</td>\n",
       "      <td>Suicide Squad</td>\n",
       "      <td>Action,Adventure,Fantasy</td>\n",
       "      <td>A secret government agency recruits some of th...</td>\n",
       "      <td>David Ayer</td>\n",
       "      <td>Will Smith, Jared Leto, Margot Robbie, Viola D...</td>\n",
       "      <td>2016</td>\n",
       "      <td>123</td>\n",
       "      <td>6.2</td>\n",
       "      <td>393727</td>\n",
       "      <td>325.02</td>\n",
       "      <td>40.0</td>\n",
       "    </tr>\n",
       "  </tbody>\n",
       "</table>\n",
       "</div>"
      ],
      "text/plain": [
       "   Rank                    Title                     Genre  \\\n",
       "0     1  Guardians of the Galaxy   Action,Adventure,Sci-Fi   \n",
       "1     2               Prometheus  Adventure,Mystery,Sci-Fi   \n",
       "2     3                    Split           Horror,Thriller   \n",
       "3     4                     Sing   Animation,Comedy,Family   \n",
       "4     5            Suicide Squad  Action,Adventure,Fantasy   \n",
       "\n",
       "                                         Description              Director  \\\n",
       "0  A group of intergalactic criminals are forced ...            James Gunn   \n",
       "1  Following clues to the origin of mankind, a te...          Ridley Scott   \n",
       "2  Three girls are kidnapped by a man with a diag...    M. Night Shyamalan   \n",
       "3  In a city of humanoid animals, a hustling thea...  Christophe Lourdelet   \n",
       "4  A secret government agency recruits some of th...            David Ayer   \n",
       "\n",
       "                                              Actors  Year  Runtime (Minutes)  \\\n",
       "0  Chris Pratt, Vin Diesel, Bradley Cooper, Zoe S...  2014                121   \n",
       "1  Noomi Rapace, Logan Marshall-Green, Michael Fa...  2012                124   \n",
       "2  James McAvoy, Anya Taylor-Joy, Haley Lu Richar...  2016                117   \n",
       "3  Matthew McConaughey,Reese Witherspoon, Seth Ma...  2016                108   \n",
       "4  Will Smith, Jared Leto, Margot Robbie, Viola D...  2016                123   \n",
       "\n",
       "   Rating   Votes  Revenue (Millions)  Metascore  \n",
       "0     8.1  757074              333.13       76.0  \n",
       "1     7.0  485820              126.46       65.0  \n",
       "2     7.3  157606              138.12       62.0  \n",
       "3     7.2   60545              270.32       59.0  \n",
       "4     6.2  393727              325.02       40.0  "
      ]
     },
     "execution_count": 4,
     "metadata": {},
     "output_type": "execute_result"
    }
   ],
   "source": [
    "import pandas as pd\n",
    "\n",
    "# Load the dataset\n",
    "df = pd.read_csv(\"IMDb-Movie-Data.csv\")\n",
    "\n",
    "# Display the first few rows\n",
    "df.head()\n"
   ]
  },
  {
   "cell_type": "markdown",
   "id": "c365e31f-270b-4d94-9569-65b0e1bfb24d",
   "metadata": {},
   "source": [
    "## Select Useful Columns"
   ]
  },
  {
   "cell_type": "code",
   "execution_count": 8,
   "id": "777484b8-7b76-43ec-a698-0d593df601c4",
   "metadata": {},
   "outputs": [],
   "source": [
    "#We'll focus on Description (as plot summary) and Genre (target label).\n",
    "df = df[['Description', 'Genre']]  # Keep only the needed columns\n",
    "df.dropna(inplace=True)  # Drop any rows with missing values\n",
    "df.reset_index(drop=True, inplace=True)\n"
   ]
  },
  {
   "cell_type": "markdown",
   "id": "91b57f92-d05d-4a52-8462-e5b5d110e6a8",
   "metadata": {},
   "source": [
    "## Preprocessing Steps\n",
    "\n",
    "To prepare the data for modeling, the following NLP preprocessing steps were applied to the `Description` column:\n",
    "\n",
    "1. **Lowercasing**: Converted all text to lowercase.\n",
    "2. **Tokenization**: Split sentences into individual words.\n",
    "3. **Punctuation Removal**: Removed non-alphabetic characters.\n",
    "4. **Stopword Removal**: Removed common English words that do not carry significant meaning (like \"the\", \"is\", etc.).\n",
    "5. **Lemmatization**: Reduced words to their base or dictionary form (e.g., \"running\" → \"run\").\n",
    "\n",
    "After cleaning, the processed text was stored in a new column called `clean_plot`.\n",
    "\n",
    "### Feature Extraction:\n",
    "Used **TF-IDF (Term Frequency - Inverse Document Frequency)** to convert the cleaned text into numerical vectors for training machine learning models.\n"
   ]
  },
  {
   "cell_type": "markdown",
   "id": "c0013e93-e871-4c4f-9571-ec0e02757666",
   "metadata": {},
   "source": [
    "## NLP Text Preprocessing (on Description)"
   ]
  },
  {
   "cell_type": "code",
   "execution_count": 11,
   "id": "03cf9aff-3c91-44f8-b070-fb3ddb0fd5bb",
   "metadata": {},
   "outputs": [
    {
     "name": "stderr",
     "output_type": "stream",
     "text": [
      "[nltk_data] Downloading package punkt to\n",
      "[nltk_data]     C:\\Users\\gowry\\AppData\\Roaming\\nltk_data...\n",
      "[nltk_data]   Package punkt is already up-to-date!\n",
      "[nltk_data] Downloading package stopwords to\n",
      "[nltk_data]     C:\\Users\\gowry\\AppData\\Roaming\\nltk_data...\n",
      "[nltk_data]   Package stopwords is already up-to-date!\n",
      "[nltk_data] Downloading package wordnet to\n",
      "[nltk_data]     C:\\Users\\gowry\\AppData\\Roaming\\nltk_data...\n",
      "[nltk_data]   Package wordnet is already up-to-date!\n"
     ]
    }
   ],
   "source": [
    "#Install and import NLP tools:\n",
    "import nltk\n",
    "nltk.download('punkt')\n",
    "nltk.download('stopwords')\n",
    "nltk.download('wordnet')\n",
    "\n",
    "from nltk.corpus import stopwords\n",
    "from nltk.tokenize import word_tokenize\n",
    "from nltk.stem import WordNetLemmatizer\n"
   ]
  },
  {
   "cell_type": "code",
   "execution_count": 13,
   "id": "8120d646-738b-46eb-9229-7326f2a60f72",
   "metadata": {},
   "outputs": [],
   "source": [
    "#Define clean-up function:\n",
    "stop_words = set(stopwords.words('english'))\n",
    "lemmatizer = WordNetLemmatizer()\n",
    "\n",
    "def clean_text(text):\n",
    "    tokens = word_tokenize(text.lower())  # lowercase and tokenize\n",
    "    tokens = [word for word in tokens if word.isalpha()]  # remove punctuation and numbers\n",
    "    tokens = [word for word in tokens if word not in stop_words]  # remove stopwords\n",
    "    tokens = [lemmatizer.lemmatize(word) for word in tokens]  # lemmatize\n",
    "    return \" \".join(tokens)\n"
   ]
  },
  {
   "cell_type": "code",
   "execution_count": 15,
   "id": "53236055-c418-40f0-90c7-4e9d9ba78608",
   "metadata": {},
   "outputs": [],
   "source": [
    "#Apply cleaning to plot descriptions:\n",
    "df['clean_plot'] = df['Description'].apply(clean_text)\n"
   ]
  },
  {
   "cell_type": "markdown",
   "id": "73a6f909-94e0-4b56-9076-6b5e363fe30e",
   "metadata": {},
   "source": [
    "## Convert Text to Numbers (TF-IDF Vectorization)"
   ]
  },
  {
   "cell_type": "code",
   "execution_count": 18,
   "id": "3fef053e-d9f5-4017-b80e-d07d58d2083e",
   "metadata": {},
   "outputs": [],
   "source": [
    "from sklearn.feature_extraction.text import TfidfVectorizer\n",
    "\n",
    "tfidf = TfidfVectorizer(max_features=5000)\n",
    "X = tfidf.fit_transform(df['clean_plot']).toarray()\n"
   ]
  },
  {
   "cell_type": "markdown",
   "id": "4bf0c554-6186-4f16-87e1-d285b4e4ad90",
   "metadata": {},
   "source": [
    "## Encode the Genres (Target Labels)"
   ]
  },
  {
   "cell_type": "code",
   "execution_count": 21,
   "id": "db7ce641-ac16-4489-9369-76172401e133",
   "metadata": {},
   "outputs": [],
   "source": [
    "# genre column has multiple genres like Action,Adventure,Sci-Fi. \n",
    "#For now, we’ll take only the first genre as the label (simplified single-label classification).\n",
    "# Take the first genre from each string (e.g., \"Action,Adventure\" → \"Action\")\n",
    "df['main_genre'] = df['Genre'].apply(lambda x: x.split(',')[0])\n",
    "\n",
    "from sklearn.preprocessing import LabelEncoder\n",
    "\n",
    "le = LabelEncoder()\n",
    "y = le.fit_transform(df['main_genre'])\n"
   ]
  },
  {
   "cell_type": "markdown",
   "id": "a940b4dc-055d-4724-968a-9fba2bce33ce",
   "metadata": {},
   "source": [
    "##  Train/Test Split"
   ]
  },
  {
   "cell_type": "code",
   "execution_count": 24,
   "id": "ab5a0757-1c5f-4a71-8380-8e7e18af1c76",
   "metadata": {},
   "outputs": [],
   "source": [
    "from sklearn.model_selection import train_test_split\n",
    "\n",
    "X_train, X_test, y_train, y_test = train_test_split(\n",
    "    X, y, test_size=0.2, random_state=42)\n"
   ]
  },
  {
   "cell_type": "markdown",
   "id": "5ff429fd-832c-4120-821c-6caa2d1d749b",
   "metadata": {},
   "source": [
    "## Train the Model (Naive Bayes)"
   ]
  },
  {
   "cell_type": "code",
   "execution_count": 29,
   "id": "1f7ce5c6-6bb5-4472-be94-1f0a3227905b",
   "metadata": {},
   "outputs": [],
   "source": [
    "# tell classification_report() which exact labels are in the predictions. \n",
    "from sklearn.metrics import accuracy_score, classification_report\n",
    "\n"
   ]
  },
  {
   "cell_type": "code",
   "execution_count": 31,
   "id": "da462485-5a65-4665-8784-96c2a50bf46b",
   "metadata": {},
   "outputs": [],
   "source": [
    "# Predict\n",
    "y_pred = model.predict(X_test)"
   ]
  },
  {
   "cell_type": "code",
   "execution_count": 33,
   "id": "1c70a547-1682-4778-856d-615b2ed5f33b",
   "metadata": {},
   "outputs": [
    {
     "name": "stdout",
     "output_type": "stream",
     "text": [
      "Accuracy: 0.305\n"
     ]
    }
   ],
   "source": [
    "# Evaluate\n",
    "print(\"Accuracy:\", accuracy_score(y_test, y_pred))"
   ]
  },
  {
   "cell_type": "code",
   "execution_count": 35,
   "id": "3823795e-14d8-402f-9473-a53f0b81fa84",
   "metadata": {},
   "outputs": [],
   "source": [
    "# specify only the labels used in y_test and get their names\n",
    "import numpy as np\n",
    "unique_labels = np.unique(y_test)"
   ]
  },
  {
   "cell_type": "code",
   "execution_count": 37,
   "id": "c5b42b72-1b0e-4766-a296-c82413d9ed38",
   "metadata": {},
   "outputs": [],
   "source": [
    "# Get correct class names for only those labels\n",
    "target_names = le.inverse_transform(unique_labels)"
   ]
  },
  {
   "cell_type": "code",
   "execution_count": 39,
   "id": "382402a0-6807-4959-9002-633a2565f17b",
   "metadata": {},
   "outputs": [
    {
     "name": "stdout",
     "output_type": "stream",
     "text": [
      "\n",
      "Classification Report:\n",
      "               precision    recall  f1-score   support\n",
      "\n",
      "      Action       0.29      0.98      0.45        54\n",
      "   Adventure       0.00      0.00      0.00        16\n",
      "   Animation       0.00      0.00      0.00        10\n",
      "   Biography       0.00      0.00      0.00        20\n",
      "      Comedy       0.50      0.17      0.26        29\n",
      "       Crime       0.00      0.00      0.00        15\n",
      "       Drama       0.38      0.07      0.12        43\n",
      "      Horror       0.00      0.00      0.00         9\n",
      "     Mystery       0.00      0.00      0.00         2\n",
      "    Thriller       0.00      0.00      0.00         2\n",
      "\n",
      "    accuracy                           0.30       200\n",
      "   macro avg       0.12      0.12      0.08       200\n",
      "weighted avg       0.23      0.30      0.18       200\n",
      "\n"
     ]
    },
    {
     "name": "stderr",
     "output_type": "stream",
     "text": [
      "C:\\ProgramData\\anaconda3\\Lib\\site-packages\\sklearn\\metrics\\_classification.py:1509: UndefinedMetricWarning: Precision is ill-defined and being set to 0.0 in labels with no predicted samples. Use `zero_division` parameter to control this behavior.\n",
      "  _warn_prf(average, modifier, f\"{metric.capitalize()} is\", len(result))\n",
      "C:\\ProgramData\\anaconda3\\Lib\\site-packages\\sklearn\\metrics\\_classification.py:1509: UndefinedMetricWarning: Precision is ill-defined and being set to 0.0 in labels with no predicted samples. Use `zero_division` parameter to control this behavior.\n",
      "  _warn_prf(average, modifier, f\"{metric.capitalize()} is\", len(result))\n",
      "C:\\ProgramData\\anaconda3\\Lib\\site-packages\\sklearn\\metrics\\_classification.py:1509: UndefinedMetricWarning: Precision is ill-defined and being set to 0.0 in labels with no predicted samples. Use `zero_division` parameter to control this behavior.\n",
      "  _warn_prf(average, modifier, f\"{metric.capitalize()} is\", len(result))\n"
     ]
    }
   ],
   "source": [
    "# generate the report safely\n",
    "print(\"\\nClassification Report:\\n\", classification_report(y_test, y_pred, labels=unique_labels, target_names=target_names))"
   ]
  },
  {
   "cell_type": "markdown",
   "id": "a39010ab-3b87-4686-ae5c-0b9c01c14452",
   "metadata": {},
   "source": [
    "## Other Models (Logistic Regression)"
   ]
  },
  {
   "cell_type": "code",
   "execution_count": 42,
   "id": "d2b64df9-3635-4564-a2c1-0edb480222a8",
   "metadata": {},
   "outputs": [],
   "source": [
    "from sklearn.linear_model import LogisticRegression\n",
    "\n",
    "log_model = LogisticRegression(max_iter=1000)  # increase max_iter to avoid warnings\n",
    "log_model.fit(X_train, y_train)\n",
    "log_pred = log_model.predict(X_test)"
   ]
  },
  {
   "cell_type": "code",
   "execution_count": 44,
   "id": "82010a87-f4ad-46f3-a253-b41fd659960d",
   "metadata": {},
   "outputs": [
    {
     "name": "stdout",
     "output_type": "stream",
     "text": [
      "Logistic Regression Accuracy: 0.39\n",
      "\n",
      "Classification Report:\n",
      "               precision    recall  f1-score   support\n",
      "\n",
      "      Action       0.35      0.96      0.51        54\n",
      "   Adventure       0.00      0.00      0.00        16\n",
      "   Animation       0.00      0.00      0.00        10\n",
      "   Biography       0.00      0.00      0.00        20\n",
      "      Comedy       0.41      0.31      0.35        29\n",
      "       Crime       0.00      0.00      0.00        15\n",
      "       Drama       0.57      0.40      0.47        43\n",
      "      Horror       0.00      0.00      0.00         9\n",
      "     Mystery       0.00      0.00      0.00         2\n",
      "    Thriller       0.00      0.00      0.00         2\n",
      "\n",
      "    accuracy                           0.39       200\n",
      "   macro avg       0.13      0.17      0.13       200\n",
      "weighted avg       0.28      0.39      0.29       200\n",
      "\n"
     ]
    },
    {
     "name": "stderr",
     "output_type": "stream",
     "text": [
      "C:\\ProgramData\\anaconda3\\Lib\\site-packages\\sklearn\\metrics\\_classification.py:1509: UndefinedMetricWarning: Precision is ill-defined and being set to 0.0 in labels with no predicted samples. Use `zero_division` parameter to control this behavior.\n",
      "  _warn_prf(average, modifier, f\"{metric.capitalize()} is\", len(result))\n",
      "C:\\ProgramData\\anaconda3\\Lib\\site-packages\\sklearn\\metrics\\_classification.py:1509: UndefinedMetricWarning: Precision is ill-defined and being set to 0.0 in labels with no predicted samples. Use `zero_division` parameter to control this behavior.\n",
      "  _warn_prf(average, modifier, f\"{metric.capitalize()} is\", len(result))\n",
      "C:\\ProgramData\\anaconda3\\Lib\\site-packages\\sklearn\\metrics\\_classification.py:1509: UndefinedMetricWarning: Precision is ill-defined and being set to 0.0 in labels with no predicted samples. Use `zero_division` parameter to control this behavior.\n",
      "  _warn_prf(average, modifier, f\"{metric.capitalize()} is\", len(result))\n"
     ]
    }
   ],
   "source": [
    "print(\"Logistic Regression Accuracy:\", accuracy_score(y_test, log_pred))\n",
    "# Evaluation\n",
    "log_unique_labels = np.unique(y_test)\n",
    "log_target_names = le.inverse_transform(log_unique_labels)\n",
    "print(\"\\nClassification Report:\\n\", classification_report(y_test, log_pred, labels=log_unique_labels, target_names=log_target_names))"
   ]
  },
  {
   "cell_type": "markdown",
   "id": "cffe41ed-911c-4104-8553-da9a66e537e1",
   "metadata": {},
   "source": [
    "## Other Models (Random Forest Classifier)"
   ]
  },
  {
   "cell_type": "code",
   "execution_count": 47,
   "id": "c21bd504-81fc-4267-8d0a-19ff6c97831a",
   "metadata": {},
   "outputs": [
    {
     "name": "stdout",
     "output_type": "stream",
     "text": [
      "Random Forest Accuracy: 0.395\n",
      "\n",
      "Classification Report:\n",
      "               precision    recall  f1-score   support\n",
      "\n",
      "      Action       0.37      0.93      0.53        54\n",
      "   Adventure       0.00      0.00      0.00        16\n",
      "   Animation       0.00      0.00      0.00        10\n",
      "   Biography       0.75      0.15      0.25        20\n",
      "      Comedy       0.38      0.31      0.34        29\n",
      "       Crime       0.00      0.00      0.00        15\n",
      "       Drama       0.49      0.40      0.44        43\n",
      "      Horror       0.00      0.00      0.00         9\n",
      "     Mystery       0.00      0.00      0.00         2\n",
      "    Thriller       0.00      0.00      0.00         2\n",
      "\n",
      "    accuracy                           0.40       200\n",
      "   macro avg       0.20      0.18      0.16       200\n",
      "weighted avg       0.33      0.40      0.31       200\n",
      "\n"
     ]
    },
    {
     "name": "stderr",
     "output_type": "stream",
     "text": [
      "C:\\ProgramData\\anaconda3\\Lib\\site-packages\\sklearn\\metrics\\_classification.py:1509: UndefinedMetricWarning: Precision is ill-defined and being set to 0.0 in labels with no predicted samples. Use `zero_division` parameter to control this behavior.\n",
      "  _warn_prf(average, modifier, f\"{metric.capitalize()} is\", len(result))\n",
      "C:\\ProgramData\\anaconda3\\Lib\\site-packages\\sklearn\\metrics\\_classification.py:1509: UndefinedMetricWarning: Precision is ill-defined and being set to 0.0 in labels with no predicted samples. Use `zero_division` parameter to control this behavior.\n",
      "  _warn_prf(average, modifier, f\"{metric.capitalize()} is\", len(result))\n",
      "C:\\ProgramData\\anaconda3\\Lib\\site-packages\\sklearn\\metrics\\_classification.py:1509: UndefinedMetricWarning: Precision is ill-defined and being set to 0.0 in labels with no predicted samples. Use `zero_division` parameter to control this behavior.\n",
      "  _warn_prf(average, modifier, f\"{metric.capitalize()} is\", len(result))\n"
     ]
    }
   ],
   "source": [
    "from sklearn.ensemble import RandomForestClassifier\n",
    "\n",
    "rf_model = RandomForestClassifier()\n",
    "rf_model.fit(X_train, y_train)\n",
    "rf_pred = rf_model.predict(X_test)\n",
    "\n",
    "print(\"Random Forest Accuracy:\", accuracy_score(y_test, rf_pred))\n",
    "\n",
    "rf_unique_labels = np.unique(y_test)\n",
    "rf_target_names = le.inverse_transform(rf_unique_labels)\n",
    "print(\"\\nClassification Report:\\n\", classification_report(y_test, rf_pred, labels=rf_unique_labels, target_names=rf_target_names))\n"
   ]
  },
  {
   "cell_type": "markdown",
   "id": "af4820fc-c6a9-486d-b5c0-a02ed5e6adff",
   "metadata": {},
   "source": [
    "## Confusion Matrix (for visualization)"
   ]
  },
  {
   "cell_type": "code",
   "execution_count": 50,
   "id": "cc3e2362-f421-4a75-a297-1cc7fecbb238",
   "metadata": {},
   "outputs": [],
   "source": [
    "#The confusion matrix helps you see where your model is getting confused between genres.\n",
    "from sklearn.metrics import confusion_matrix\n",
    "import seaborn as sns\n",
    "import matplotlib.pyplot as plt"
   ]
  },
  {
   "cell_type": "code",
   "execution_count": 52,
   "id": "f73516b9-9ec0-4b0d-a2ed-6e06f6a62af0",
   "metadata": {},
   "outputs": [],
   "source": [
    "# Create confusion matrix for logistic regression\n",
    "cm = confusion_matrix(y_test, log_pred, labels=log_unique_labels)"
   ]
  },
  {
   "cell_type": "code",
   "execution_count": 54,
   "id": "cdd677c9-dd82-4871-840f-0caadfa1b913",
   "metadata": {},
   "outputs": [
    {
     "data": {
      "image/png": "[encoded data removed]",
      "text/plain": [
       "<Figure size 1000x800 with 2 Axes>"
      ]
     },
     "metadata": {},
     "output_type": "display_data"
    }
   ],
   "source": [
    "# Plot using Seaborn\n",
    "plt.figure(figsize=(10, 8))\n",
    "sns.heatmap(cm, annot=True, fmt='d', cmap='Blues', \n",
    "            xticklabels=log_target_names, \n",
    "            yticklabels=log_target_names)\n",
    "plt.xlabel('Predicted')\n",
    "plt.ylabel('Actual')\n",
    "plt.title('Confusion Matrix - Logistic Regression')\n",
    "plt.show()\n"
   ]
  },
  {
   "cell_type": "markdown",
   "id": "6941f59e-60ec-4640-ad13-41e1bbba4c60",
   "metadata": {},
   "source": [
    "## Model Building\n",
    "\n",
    "We experimented with multiple classification models:\n",
    "\n",
    "### 1. Naive Bayes (MultinomialNB)\n",
    "- Simple and fast algorithm, especially effective for text data.\n",
    "- Works well for problems with word frequencies.\n",
    "\n",
    "### 2. Logistic Regression\n",
    "- A linear model good for multiclass classification problems.\n",
    "- More accurate than Naive Bayes in some cases, especially when features are correlated.\n",
    "\n",
    "### 3. Random Forest\n",
    "- An ensemble of decision trees.\n",
    "- Captures nonlinear patterns better, but slower to train.\n",
    "\n",
    "### Evaluation Metrics Used:\n",
    "- **Accuracy**\n",
    "- **Precision, Recall, F1-score** via `classification_report`\n",
    "- **Confusion Matrix** for visual analysis\n"
   ]
  },
  {
   "cell_type": "markdown",
   "id": "b935d4ca-c676-4ced-8ce8-a2873dd0b193",
   "metadata": {},
   "source": [
    "## Results\n",
    "\n",
    "We trained and evaluated three different machine learning models using TF-IDF features from movie plot descriptions.\n",
    "\n",
    "### Naive Bayes (MultinomialNB)\n",
    "- **Accuracy**: `~30.5%`\n",
    "- Strong performance in recognizing the **\"Action\"** genre (F1-score: 0.45).\n",
    "- Weak or no predictions for smaller classes like **Animation**, **Horror**, or **Thriller**.\n",
    "- **Limitation**: Assumes all words are independent (the \"naive\" assumption), which may not fully capture the complexity of plot descriptions.\n",
    "\n",
    "### Logistic Regression\n",
    "- **Accuracy**: `~39%`\n",
    "- Improved precision and recall for genres like **Action**, **Drama**, and **Comedy**.\n",
    "- Detected **Action** genre with high recall (96%), but some genres like **Thriller** and **Mystery** were not predicted at all.\n",
    "- **Balanced Model**: Performs better overall with linear decision boundaries.\n",
    "\n",
    "### Random Forest Classifier\n",
    "- **Accuracy**: `~39.5%` (slightly better than Logistic Regression)\n",
    "- Highest precision for **Biography** (0.75) but low recall for many other classes.\n",
    "- Like Logistic Regression, failed to detect genres with very few examples.\n",
    "\n",
    "### Confusion Matrix\n",
    "Below is the **confusion matrix** for Logistic Regression:\n",
    "\n",
    "- Most **\"Action\"** movies were predicted correctly.\n",
    "- **Drama** and **Comedy** were often confused with Action or each other.\n",
    "- Genres like **Animation**, **Mystery**, **Horror**, and **Thriller** had poor classification due to fewer examples.\n"
   ]
  },
  {
   "cell_type": "markdown",
   "id": "4bf09f40-b480-4d47-9a55-6c8d278a71a6",
   "metadata": {},
   "source": [
    "## Conclusion\n",
    "\n",
    "This project demonstrated how to use Natural Language Processing (NLP) and Machine Learning to predict the **primary genre** of a movie from its plot summary.\n",
    "\n",
    "### Achievements:\n",
    "- Applied **text preprocessing** (lowercasing, tokenization, lemmatization, and stopword removal) using NLTK.\n",
    "- Converted cleaned plots into numerical form using **TF-IDF vectorization**.\n",
    "- Trained and evaluated three classifiers: **Naive Bayes**, **Logistic Regression**, and **Random Forest**.\n",
    "- Used **classification reports** and a **confusion matrix** to analyze performance.\n",
    "\n",
    "### Observations:\n",
    "- All models performed better with genres that had more training samples (like **Action** and **Drama**).\n",
    "- **Rare genres** (like Thriller, Animation, Horror) were often missed due to **class imbalance**.\n",
    "- Logistic Regression and Random Forest outperformed Naive Bayes in accuracy and balance."
   ]
  }
 ],
 "metadata": {
  "kernelspec": {
   "display_name": "Python 3 (ipykernel)",
   "language": "python",
   "name": "python3"
  },
  "language_info": {
   "codemirror_mode": {
    "name": "ipython",
    "version": 3
   },
   "file_extension": ".py",
   "mimetype": "text/x-python",
   "name": "python",
   "nbconvert_exporter": "python",
   "pygments_lexer": "ipython3",
   "version": "3.12.4"
  }
 },
 "nbformat": 4,
 "nbformat_minor": 5
}
